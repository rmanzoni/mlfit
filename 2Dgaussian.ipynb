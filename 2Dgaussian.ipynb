{
 "cells": [
  {
   "cell_type": "markdown",
   "metadata": {},
   "source": [
    "# Understand CMS gaussian beam spot fitter"
   ]
  },
  {
   "cell_type": "markdown",
   "metadata": {},
   "source": [
    "The goal of this example is to demonstrate that the \"width\" parameters of CMS beam spot fit are different from the proper widths of the luminous regions, that is the gaussian widths as measured in the reference frame of the luminous region itself (without correlations, diagonal covariance matrix).  \n",
    "\n",
    "In the following we'll stick to the 2D case, which is easier to illustrate.  \n",
    "\n",
    "We'll first generate a set of normally distributed points without any x, y correlation and fit this distributions with a generic 2D gaussian model, where the covariance matrix is defined as\n",
    "$$\\Sigma_{\\textrm{beam}}^{\\textrm{CMS}} =  \\begin{pmatrix}\n",
    "  (\\sigma_{x}^{\\textrm{eff}})^2 & \\rho * \\sigma_{x}^{\\textrm{eff}} *\\sigma_{y}^{\\textrm{eff}} \\\\\n",
    "   \\rho * \\sigma_{x}^{\\textrm{eff}} *\\sigma_{y}^{\\textrm{eff}} & (\\sigma_{y}^{\\textrm{eff}})^2 \\\\\n",
    " \\end{pmatrix}$$\n",
    " \n",
    " in this case, because there no rotation and hence no correlation between x and y the fitted effective widths will match the _true_ widths.  \n",
    " \n",
    "In the second part of the example we'll rotate the generated distribution, but withough changing the true widths.\n",
    "This time, the fitted effective widths will significantly differ from the true widths.\n",
    "\n",
    "The latter case actually shows what we do in CMS when fitting the vertex distribution to extract the luminous region parameters.  \n",
    "The width parameters are in fact the _effective_ widths as projected onto CMS' reference frame and not the _true_ widths of the luminous region."
   ]
  },
  {
   "cell_type": "markdown",
   "metadata": {},
   "source": [
    "## no rotations"
   ]
  },
  {
   "cell_type": "code",
   "execution_count": 2,
   "metadata": {
    "collapsed": false
   },
   "outputs": [],
   "source": [
    "import iminuit\n",
    "import numpy as np\n",
    "import seaborn as sns\n",
    "from matplotlib import pyplot as plt\n",
    "from scipy.stats import multivariate_normal"
   ]
  },
  {
   "cell_type": "markdown",
   "metadata": {},
   "source": [
    "Define function to compute the 2D covariance matrix.  \n",
    "It is done by rotating the diagonal matrix of the X and Y widths.  \n",
    "In this case sigma_x and sigma_y are the proper widths of the distribution."
   ]
  },
  {
   "cell_type": "code",
   "execution_count": 3,
   "metadata": {
    "collapsed": false
   },
   "outputs": [],
   "source": [
    "def compute_covariance_matrix(theta, sigma_x, sigma_y):\n",
    "    '''\n",
    "    https://en.wikipedia.org/wiki/Multivariate_normal_distribution#Density_function\n",
    "    '''\n",
    "    rot = np.matrix([\n",
    "        [np.cos(theta), -np.sin(theta)],\n",
    "        [np.sin(theta),  np.cos(theta)],\n",
    "    ]).astype(np.float64)\n",
    "    \n",
    "    widths = np.matrix([\n",
    "        [ np.power(sigma_x, 2), 0.                  ],\n",
    "        [ 0.                  , np.power(sigma_y, 2)],\n",
    "    ]).astype(np.float64)\n",
    "    \n",
    "    cov = rot * widths * rot.T\n",
    "    \n",
    "    return cov"
   ]
  },
  {
   "cell_type": "markdown",
   "metadata": {},
   "source": [
    "define generator function.  \n",
    "Generates (x,y) points according to a 2D gaussian PDF.  \n",
    "The widths are the _true_ widths of the distribution."
   ]
  },
  {
   "cell_type": "code",
   "execution_count": 4,
   "metadata": {
    "collapsed": false
   },
   "outputs": [],
   "source": [
    "def generate(pos, theta, sigma_x, sigma_y, ntoys=10000, seed=1986):\n",
    "    '''\n",
    "    '''\n",
    "    # build the covariance matrix from angles and widths\n",
    "    cov = compute_covariance_matrix(\n",
    "        theta   = theta  , #[rad]\n",
    "        sigma_x = sigma_x, #[cm]\n",
    "        sigma_y = sigma_y, #[cm]\n",
    "    )\n",
    "    \n",
    "    # fix random seed\n",
    "    rng = np.random.RandomState(seed)\n",
    "    \n",
    "    # generate multivariate normal\n",
    "    mvg = rng.multivariate_normal(pos, cov, ntoys)\n",
    "    \n",
    "    # return points\n",
    "    return mvg\n"
   ]
  },
  {
   "cell_type": "markdown",
   "metadata": {},
   "source": [
    "generate events with a non rotated 2D gaussian, centred in 0"
   ]
  },
  {
   "cell_type": "code",
   "execution_count": 5,
   "metadata": {
    "collapsed": false
   },
   "outputs": [
    {
     "name": "stdout",
     "output_type": "stream",
     "text": [
      "[[ -7.76979035   0.12661351]\n",
      " [  8.48737694   0.23162548]\n",
      " [ 18.30533362   0.40549799]\n",
      " ..., \n",
      " [ -5.23972591  -0.42021809]\n",
      " [ -9.12913277   0.93488155]\n",
      " [ 22.51090179   0.93359008]]\n"
     ]
    }
   ],
   "source": [
    "points = generate([0., 0.], 0., 10., 1.)\n",
    "print points"
   ]
  },
  {
   "cell_type": "code",
   "execution_count": 6,
   "metadata": {
    "collapsed": false
   },
   "outputs": [
    {
     "data": {
      "image/png": "[encoded data removed]",
      "text/plain": [
       "<matplotlib.figure.Figure at 0x114d2e210>"
      ]
     },
     "metadata": {},
     "output_type": "display_data"
    }
   ],
   "source": [
    "g = sns.jointplot(x=points[:,0], y=points[:,1], data=points, kind=\"kde\", color=\"b\")\n",
    "g.plot_joint(plt.scatter, c=\"w\", s=0, linewidth=1, marker=\"+\")\n",
    "g.ax_joint.collections[0].set_alpha(0)\n",
    "g.set_axis_labels(\"$X$\", \"$Y$\");\n",
    "plt.xlim([-20,20])\n",
    "plt.ylim([-20,20])\n",
    "plt.show()"
   ]
  },
  {
   "cell_type": "markdown",
   "metadata": {},
   "source": [
    "define fitter class"
   ]
  },
  {
   "cell_type": "code",
   "execution_count": 7,
   "metadata": {
    "collapsed": true
   },
   "outputs": [],
   "source": [
    "class fitter():\n",
    "    '''\n",
    "    generic 2D gaussian fitter.\n",
    "    '''\n",
    "    def __init__(self, points, verbose=False):\n",
    "        self.points = points\n",
    "        self.positions = np.mean(points, axis=0)\n",
    "        self.widths = np.std(points, axis=0)\n",
    "        self.verbose = verbose\n",
    "\n",
    "    def nll(self, x, y, rho, sigma_x_eff, sigma_y_eff):\n",
    "        \n",
    "        if self.verbose:\n",
    "            print '\\n'\n",
    "            print 'x:'          , x\n",
    "            print 'y:'          , y\n",
    "            print 'rho:'        , rho\n",
    "            print 'sigma_x_eff:', sigma_x_eff\n",
    "            print 'sigma_y_eff:', sigma_y_eff\n",
    "\n",
    "        cov = np.matrix([\n",
    "            [np.power(sigma_x_eff, 2)       , rho * sigma_x_eff * sigma_y_eff],\n",
    "            [rho * sigma_x_eff * sigma_y_eff, np.power(sigma_y_eff, 2)       ],\n",
    "        ])\n",
    "        \n",
    "        if np.linalg.det(cov) > 0.:\n",
    "            nll = -multivariate_normal.logpdf(self.points,\n",
    "                                              mean=np.array([x, y]),\n",
    "                                              cov=cov).sum()\n",
    "        else:\n",
    "            print 'WARNING! Singular covariance matrix, cannot invert!'\n",
    "            return float('nan')\n",
    "\n",
    "        if self.verbose:\n",
    "            print 'nLL:', nll\n",
    "        \n",
    "        return nll\n",
    "    \n",
    "    def fit(self):\n",
    "        minimizer = iminuit.Minuit(\n",
    "            self.nll,\n",
    "            pedantic=False,\n",
    "            x=self.positions[0],\n",
    "            y=self.positions[1],\n",
    "            rho=0.,\n",
    "            sigma_x_eff=self.widths[0],\n",
    "            sigma_y_eff=self.widths[1],\n",
    "        )\n",
    "        try:\n",
    "            # run the minimization            \n",
    "            minimizer.migrad()            \n",
    "        except:\n",
    "            print 'ERROR! NLL Minimization failed'\n",
    "        \n",
    "        return minimizer\n"
   ]
  },
  {
   "cell_type": "code",
   "execution_count": 8,
   "metadata": {
    "collapsed": false
   },
   "outputs": [],
   "source": [
    "myfitter = fitter(points)"
   ]
  },
  {
   "cell_type": "code",
   "execution_count": 9,
   "metadata": {
    "collapsed": false
   },
   "outputs": [
    {
     "name": "stdout",
     "output_type": "stream",
     "text": [
      "mean x, y: [ 0.05492877 -0.00855997]\n",
      "RMS x, y: [ 10.04436708   0.99729019]\n"
     ]
    }
   ],
   "source": [
    "print 'mean x, y:', myfitter.positions\n",
    "print 'RMS x, y:', myfitter.widths"
   ]
  },
  {
   "cell_type": "code",
   "execution_count": 10,
   "metadata": {
    "collapsed": false
   },
   "outputs": [
    {
     "data": {
      "text/html": [
       "<hr>"
      ]
     },
     "metadata": {},
     "output_type": "display_data"
    },
    {
     "data": {
      "text/html": [
       "\n",
       "        <table>\n",
       "            <tr>\n",
       "                <td title=\"Minimum value of function\">FCN = 51421.6459176</td>\n",
       "                <td title=\"Total number of call to FCN so far\">TOTAL NCALL = 71</td>\n",
       "                <td title=\"Number of call in last migrad\">NCALLS = 71</td>\n",
       "            </tr>\n",
       "            <tr>\n",
       "                <td title=\"Estimated distance to minimum\">EDM = 2.13668253961e-08</td>\n",
       "                <td title=\"Maximum EDM definition of convergence\">GOAL EDM = 1e-05</td>\n",
       "                <td title=\"Error def. Amount of increase in FCN to be defined as 1 standard deviation\">\n",
       "                UP = 1.0</td>\n",
       "            </tr>\n",
       "        </table>\n",
       "        \n",
       "        <table>\n",
       "            <tr>\n",
       "                <td align=\"center\" title=\"Validity of the migrad call\">Valid</td>\n",
       "                <td align=\"center\" title=\"Validity of parameters\">Valid Param</td>\n",
       "                <td align=\"center\" title=\"Is Covariance matrix accurate?\">Accurate Covar</td>\n",
       "                <td align=\"center\" title=\"Positive definiteness of covariance matrix\">PosDef</td>\n",
       "                <td align=\"center\" title=\"Was covariance matrix made posdef by adding diagonal element\">Made PosDef</td>\n",
       "            </tr>\n",
       "            <tr>\n",
       "                <td align=\"center\" style=\"background-color:#92CCA6\">True</td>\n",
       "                <td align=\"center\" style=\"background-color:#92CCA6\">True</td>\n",
       "                <td align=\"center\" style=\"background-color:#92CCA6\">True</td>\n",
       "                <td align=\"center\" style=\"background-color:#92CCA6\">True</td>\n",
       "                <td align=\"center\" style=\"background-color:#92CCA6\">False</td>\n",
       "            </tr>\n",
       "            <tr>\n",
       "                <td align=\"center\" title=\"Was last hesse call fail?\">Hesse Fail</td>\n",
       "                <td align=\"center\" title=\"Validity of covariance\">HasCov</td>\n",
       "                <td align=\"center\" title=\"Is EDM above goal EDM?\">Above EDM</td>\n",
       "                <td align=\"center\"></td>\n",
       "                <td align=\"center\" title=\"Did last migrad call reach max call limit?\">Reach calllim</td>\n",
       "            </tr>\n",
       "            <tr>\n",
       "                <td align=\"center\" style=\"background-color:#92CCA6\">False</td>\n",
       "                <td align=\"center\" style=\"background-color:#92CCA6\">True</td>\n",
       "                <td align=\"center\" style=\"background-color:#92CCA6\">False</td>\n",
       "                <td align=\"center\"></td>\n",
       "                <td align=\"center\" style=\"background-color:#92CCA6\">False</td>\n",
       "            </tr>\n",
       "        </table>\n",
       "        "
      ]
     },
     "metadata": {},
     "output_type": "display_data"
    },
    {
     "data": {
      "text/html": [
       "\n",
       "        <table>\n",
       "            <tr>\n",
       "                <td><a href=\"#\" onclick=\"$('#FjytABRSKa').toggle()\">+</a></td>\n",
       "                <td title=\"Variable name\">Name</td>\n",
       "                <td title=\"Value of parameter\">Value</td>\n",
       "                <td title=\"Parabolic error\">Parab Error</td>\n",
       "                <td title=\"Minos lower error\">Minos Error-</td>\n",
       "                <td title=\"Minos upper error\">Minos Error+</td>\n",
       "                <td title=\"Lower limit of the parameter\">Limit-</td>\n",
       "                <td title=\"Upper limit of the parameter\">Limit+</td>\n",
       "                <td title=\"Is the parameter fixed in the fit\">FIXED</td>\n",
       "            </tr>\n",
       "        \n",
       "            <tr>\n",
       "                <td>1</td>\n",
       "                <td>x</td>\n",
       "                <td>0.0549288</td>\n",
       "                <td>0.142049</td>\n",
       "                <td>0</td>\n",
       "                <td>0</td>\n",
       "                <td></td>\n",
       "                <td></td>\n",
       "                <td></td>\n",
       "            </tr>\n",
       "            \n",
       "            <tr>\n",
       "                <td>2</td>\n",
       "                <td>y</td>\n",
       "                <td>-0.00855997</td>\n",
       "                <td>0.0141038</td>\n",
       "                <td>0</td>\n",
       "                <td>0</td>\n",
       "                <td></td>\n",
       "                <td></td>\n",
       "                <td></td>\n",
       "            </tr>\n",
       "            \n",
       "            <tr>\n",
       "                <td>3</td>\n",
       "                <td>rho</td>\n",
       "                <td>-0.00468537</td>\n",
       "                <td>0.0141417</td>\n",
       "                <td>0</td>\n",
       "                <td>0</td>\n",
       "                <td></td>\n",
       "                <td></td>\n",
       "                <td></td>\n",
       "            </tr>\n",
       "            \n",
       "            <tr>\n",
       "                <td>4</td>\n",
       "                <td>sigma_x_eff</td>\n",
       "                <td>10.0444</td>\n",
       "                <td>0.100444</td>\n",
       "                <td>0</td>\n",
       "                <td>0</td>\n",
       "                <td></td>\n",
       "                <td></td>\n",
       "                <td></td>\n",
       "            </tr>\n",
       "            \n",
       "            <tr>\n",
       "                <td>5</td>\n",
       "                <td>sigma_y_eff</td>\n",
       "                <td>0.997291</td>\n",
       "                <td>0.00997289</td>\n",
       "                <td>0</td>\n",
       "                <td>0</td>\n",
       "                <td></td>\n",
       "                <td></td>\n",
       "                <td></td>\n",
       "            </tr>\n",
       "            \n",
       "            </table>\n",
       "        \n",
       "            <pre id=\"FjytABRSKa\" style=\"display:none;\">\n",
       "            <textarea rows=\"16\" cols=\"50\" onclick=\"this.select()\" readonly>\\begin{tabular}{|c|r|r|r|r|r|r|r|c|}\n",
       "\\hline\n",
       " & Name & Value & Para Error & Error+ & Error- & Limit+ & Limit- & FIXED\\\\\n",
       "\\hline\n",
       "1 & x & 5.493e-02 & 1.420e-01 &  &  &  &  & \\\\\n",
       "\\hline\n",
       "2 & y & -8.560e-03 & 1.410e-02 &  &  &  &  & \\\\\n",
       "\\hline\n",
       "3 & $\\rho$ & -4.685e-03 & 1.414e-02 &  &  &  &  & \\\\\n",
       "\\hline\n",
       "4 & $\\sigma$ $x_{eff}$ & 1.004e+01 & 1.004e-01 &  &  &  &  & \\\\\n",
       "\\hline\n",
       "5 & $\\sigma$ $y_{eff}$ & 9.973e-01 & 9.973e-03 &  &  &  &  & \\\\\n",
       "\\hline\n",
       "\\end{tabular}</textarea>\n",
       "            </pre>\n",
       "            "
      ]
     },
     "metadata": {},
     "output_type": "display_data"
    },
    {
     "data": {
      "text/html": [
       "<hr>"
      ]
     },
     "metadata": {},
     "output_type": "display_data"
    }
   ],
   "source": [
    "results = myfitter.fit()"
   ]
  },
  {
   "cell_type": "markdown",
   "metadata": {},
   "source": [
    "when the 2D gaussian is not titled, the fitted effective widths are equal to the proper widths of the generated distribution."
   ]
  },
  {
   "cell_type": "markdown",
   "metadata": {},
   "source": [
    "## Now, what if we rotate the 2D gaussian by .5 radians?"
   ]
  },
  {
   "cell_type": "code",
   "execution_count": 11,
   "metadata": {
    "collapsed": false
   },
   "outputs": [
    {
     "name": "stdout",
     "output_type": "stream",
     "text": [
      "mean x, y: [-0.04410067 -0.03384633]\n",
      "RMS x, y: [ 8.8254817   4.89844573]\n"
     ]
    },
    {
     "data": {
      "image/png": "[encoded data removed]",
      "text/plain": [
       "<matplotlib.figure.Figure at 0x117b9bf10>"
      ]
     },
     "metadata": {},
     "output_type": "display_data"
    }
   ],
   "source": [
    "points_rot = generate([0., 0.], .5, 10., 1.)\n",
    "myfitter_rot = fitter(points_rot)\n",
    "print 'mean x, y:', myfitter_rot.positions\n",
    "print 'RMS x, y:', myfitter_rot.widths\n",
    "#plt.scatter(points_rot[:,0], points_rot[:,1], color='r')\n",
    "#sns.jointplot(x=points_rot[:,0], y=points_rot[:,1], data=points, kind=\"kde\")\n",
    "\n",
    "g = sns.jointplot(x=points_rot[:,0], y=points_rot[:,1], data=points_rot, kind=\"kde\", color=\"r\")\n",
    "g.plot_joint(plt.scatter, c=\"w\", s=0, linewidth=1, marker=\"+\")\n",
    "g.ax_joint.collections[0].set_alpha(0)\n",
    "g.set_axis_labels(\"$X$\", \"$Y$\");\n",
    "\n",
    "\n",
    "plt.xlim([-20,20])\n",
    "plt.ylim([-20,20])\n",
    "plt.show()"
   ]
  },
  {
   "cell_type": "code",
   "execution_count": 12,
   "metadata": {
    "collapsed": false
   },
   "outputs": [
    {
     "name": "stdout",
     "output_type": "stream",
     "text": [
      "WARNING! Singular covariance matrix, cannot invert!\n",
      "WARNING! Singular covariance matrix, cannot invert!\n",
      "WARNING! Singular covariance matrix, cannot invert!\n",
      "WARNING! Singular covariance matrix, cannot invert!\n",
      "WARNING! Singular covariance matrix, cannot invert!\n",
      "WARNING! Singular covariance matrix, cannot invert!\n",
      "WARNING! Singular covariance matrix, cannot invert!\n",
      "WARNING! Singular covariance matrix, cannot invert!\n",
      "WARNING! Singular covariance matrix, cannot invert!\n",
      "WARNING! Singular covariance matrix, cannot invert!\n",
      "WARNING! Singular covariance matrix, cannot invert!\n",
      "WARNING! Singular covariance matrix, cannot invert!\n",
      "WARNING! Singular covariance matrix, cannot invert!\n",
      "WARNING! Singular covariance matrix, cannot invert!\n",
      "WARNING! Singular covariance matrix, cannot invert!\n",
      "WARNING! Singular covariance matrix, cannot invert!\n",
      "WARNING! Singular covariance matrix, cannot invert!\n",
      "WARNING! Singular covariance matrix, cannot invert!\n",
      "WARNING! Singular covariance matrix, cannot invert!\n",
      "WARNING! Singular covariance matrix, cannot invert!\n",
      "WARNING! Singular covariance matrix, cannot invert!\n"
     ]
    },
    {
     "name": "stderr",
     "output_type": "stream",
     "text": [
      "/Users/manzoni/anaconda/lib/python2.7/site-packages/ipykernel/__main__.py:51: RuntimeWarning: fcn returns Nan\n",
      "fcn is called with following arguments:\n",
      "              x = -0.044101\n",
      "              y = -0.033846\n",
      "            rho = +4.863543\n",
      "    sigma_x_eff = +8.825556\n",
      "    sigma_y_eff = +4.898478\n",
      "\n",
      "/Users/manzoni/anaconda/lib/python2.7/site-packages/ipykernel/__main__.py:51: RuntimeWarning: fcn returns Nan\n",
      "fcn is called with following arguments:\n",
      "              x = nan\n",
      "              y = nan\n",
      "            rho = nan\n",
      "    sigma_x_eff = nan\n",
      "    sigma_y_eff = nan\n",
      "\n",
      "/Users/manzoni/anaconda/lib/python2.7/site-packages/ipykernel/__main__.py:51: RuntimeWarning: fcn returns Nan\n",
      "fcn is called with following arguments:\n",
      "              x = -0.044101\n",
      "              y = -0.033846\n",
      "            rho = +1.026984\n",
      "    sigma_x_eff = +8.819015\n",
      "    sigma_y_eff = +4.894890\n",
      "\n"
     ]
    },
    {
     "data": {
      "text/html": [
       "<hr>"
      ]
     },
     "metadata": {},
     "output_type": "display_data"
    },
    {
     "data": {
      "text/html": [
       "\n",
       "        <table>\n",
       "            <tr>\n",
       "                <td title=\"Minimum value of function\">FCN = 51421.6459513</td>\n",
       "                <td title=\"Total number of call to FCN so far\">TOTAL NCALL = 105</td>\n",
       "                <td title=\"Number of call in last migrad\">NCALLS = 105</td>\n",
       "            </tr>\n",
       "            <tr>\n",
       "                <td title=\"Estimated distance to minimum\">EDM = 3.47802660632e-05</td>\n",
       "                <td title=\"Maximum EDM definition of convergence\">GOAL EDM = 1e-05</td>\n",
       "                <td title=\"Error def. Amount of increase in FCN to be defined as 1 standard deviation\">\n",
       "                UP = 1.0</td>\n",
       "            </tr>\n",
       "        </table>\n",
       "        \n",
       "        <table>\n",
       "            <tr>\n",
       "                <td align=\"center\" title=\"Validity of the migrad call\">Valid</td>\n",
       "                <td align=\"center\" title=\"Validity of parameters\">Valid Param</td>\n",
       "                <td align=\"center\" title=\"Is Covariance matrix accurate?\">Accurate Covar</td>\n",
       "                <td align=\"center\" title=\"Positive definiteness of covariance matrix\">PosDef</td>\n",
       "                <td align=\"center\" title=\"Was covariance matrix made posdef by adding diagonal element\">Made PosDef</td>\n",
       "            </tr>\n",
       "            <tr>\n",
       "                <td align=\"center\" style=\"background-color:#92CCA6\">True</td>\n",
       "                <td align=\"center\" style=\"background-color:#92CCA6\">True</td>\n",
       "                <td align=\"center\" style=\"background-color:#92CCA6\">True</td>\n",
       "                <td align=\"center\" style=\"background-color:#92CCA6\">True</td>\n",
       "                <td align=\"center\" style=\"background-color:#92CCA6\">False</td>\n",
       "            </tr>\n",
       "            <tr>\n",
       "                <td align=\"center\" title=\"Was last hesse call fail?\">Hesse Fail</td>\n",
       "                <td align=\"center\" title=\"Validity of covariance\">HasCov</td>\n",
       "                <td align=\"center\" title=\"Is EDM above goal EDM?\">Above EDM</td>\n",
       "                <td align=\"center\"></td>\n",
       "                <td align=\"center\" title=\"Did last migrad call reach max call limit?\">Reach calllim</td>\n",
       "            </tr>\n",
       "            <tr>\n",
       "                <td align=\"center\" style=\"background-color:#92CCA6\">False</td>\n",
       "                <td align=\"center\" style=\"background-color:#92CCA6\">True</td>\n",
       "                <td align=\"center\" style=\"background-color:#92CCA6\">False</td>\n",
       "                <td align=\"center\"></td>\n",
       "                <td align=\"center\" style=\"background-color:#92CCA6\">False</td>\n",
       "            </tr>\n",
       "        </table>\n",
       "        "
      ]
     },
     "metadata": {},
     "output_type": "display_data"
    },
    {
     "data": {
      "text/html": [
       "\n",
       "        <table>\n",
       "            <tr>\n",
       "                <td><a href=\"#\" onclick=\"$('#WQFzDdGMGI').toggle()\">+</a></td>\n",
       "                <td title=\"Variable name\">Name</td>\n",
       "                <td title=\"Value of parameter\">Value</td>\n",
       "                <td title=\"Parabolic error\">Parab Error</td>\n",
       "                <td title=\"Minos lower error\">Minos Error-</td>\n",
       "                <td title=\"Minos upper error\">Minos Error+</td>\n",
       "                <td title=\"Lower limit of the parameter\">Limit-</td>\n",
       "                <td title=\"Upper limit of the parameter\">Limit+</td>\n",
       "                <td title=\"Is the parameter fixed in the fit\">FIXED</td>\n",
       "            </tr>\n",
       "        \n",
       "            <tr>\n",
       "                <td>1</td>\n",
       "                <td>x</td>\n",
       "                <td>-0.0448088</td>\n",
       "                <td>0.124613</td>\n",
       "                <td>0</td>\n",
       "                <td>0</td>\n",
       "                <td></td>\n",
       "                <td></td>\n",
       "                <td></td>\n",
       "            </tr>\n",
       "            \n",
       "            <tr>\n",
       "                <td>2</td>\n",
       "                <td>y</td>\n",
       "                <td>-0.0342394</td>\n",
       "                <td>0.0691644</td>\n",
       "                <td>0</td>\n",
       "                <td>0</td>\n",
       "                <td></td>\n",
       "                <td></td>\n",
       "                <td></td>\n",
       "            </tr>\n",
       "            \n",
       "            <tr>\n",
       "                <td>3</td>\n",
       "                <td>rho</td>\n",
       "                <td>0.972786</td>\n",
       "                <td>0.000758234</td>\n",
       "                <td>0</td>\n",
       "                <td>0</td>\n",
       "                <td></td>\n",
       "                <td></td>\n",
       "                <td></td>\n",
       "            </tr>\n",
       "            \n",
       "            <tr>\n",
       "                <td>4</td>\n",
       "                <td>sigma_x_eff</td>\n",
       "                <td>8.82546</td>\n",
       "                <td>0.0875335</td>\n",
       "                <td>0</td>\n",
       "                <td>0</td>\n",
       "                <td></td>\n",
       "                <td></td>\n",
       "                <td></td>\n",
       "            </tr>\n",
       "            \n",
       "            <tr>\n",
       "                <td>5</td>\n",
       "                <td>sigma_y_eff</td>\n",
       "                <td>4.89843</td>\n",
       "                <td>0.0485841</td>\n",
       "                <td>0</td>\n",
       "                <td>0</td>\n",
       "                <td></td>\n",
       "                <td></td>\n",
       "                <td></td>\n",
       "            </tr>\n",
       "            \n",
       "            </table>\n",
       "        \n",
       "            <pre id=\"WQFzDdGMGI\" style=\"display:none;\">\n",
       "            <textarea rows=\"16\" cols=\"50\" onclick=\"this.select()\" readonly>\\begin{tabular}{|c|r|r|r|r|r|r|r|c|}\n",
       "\\hline\n",
       " & Name & Value & Para Error & Error+ & Error- & Limit+ & Limit- & FIXED\\\\\n",
       "\\hline\n",
       "1 & x & -4.481e-02 & 1.246e-01 &  &  &  &  & \\\\\n",
       "\\hline\n",
       "2 & y & -3.424e-02 & 6.916e-02 &  &  &  &  & \\\\\n",
       "\\hline\n",
       "3 & $\\rho$ & 9.728e-01 & 7.582e-04 &  &  &  &  & \\\\\n",
       "\\hline\n",
       "4 & $\\sigma$ $x_{eff}$ & 8.825e+00 & 8.753e-02 &  &  &  &  & \\\\\n",
       "\\hline\n",
       "5 & $\\sigma$ $y_{eff}$ & 4.898e+00 & 4.858e-02 &  &  &  &  & \\\\\n",
       "\\hline\n",
       "\\end{tabular}</textarea>\n",
       "            </pre>\n",
       "            "
      ]
     },
     "metadata": {},
     "output_type": "display_data"
    },
    {
     "data": {
      "text/html": [
       "<hr>"
      ]
     },
     "metadata": {},
     "output_type": "display_data"
    }
   ],
   "source": [
    "results_rot = myfitter_rot.fit() # never mind the warnings, as long as the fit converges properly they're of no interest"
   ]
  },
  {
   "cell_type": "markdown",
   "metadata": {
    "collapsed": true
   },
   "source": [
    "as expected, the effecive widths do differ from the true widths!"
   ]
  }
 ],
 "metadata": {
  "anaconda-cloud": {},
  "kernelspec": {
   "display_name": "Python [conda root]",
   "language": "python",
   "name": "conda-root-py"
  },
  "language_info": {
   "codemirror_mode": {
    "name": "ipython",
    "version": 2
   },
   "file_extension": ".py",
   "mimetype": "text/x-python",
   "name": "python",
   "nbconvert_exporter": "python",
   "pygments_lexer": "ipython2",
   "version": "2.7.12"
  }
 },
 "nbformat": 4,
 "nbformat_minor": 1
}
